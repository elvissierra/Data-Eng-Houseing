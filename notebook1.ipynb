{
 "cells": [
  {
   "cell_type": "code",
   "execution_count": null,
   "id": "76f6c763",
   "metadata": {},
   "outputs": [
    {
     "name": "stdout",
     "output_type": "stream",
     "text": [
      "object\n",
      "0    140603\n",
      "1    110017\n",
      "2    400051\n",
      "3    500034\n",
      "4    201304\n",
      "Name: Zip, dtype: object\n"
     ]
    }
   ],
   "source": [
    "import seaborn as sns\n",
    "import pandas as pd\n",
    "import matplotlib.pyplot as plt\n",
    "import io\n",
    "directory = \"csv_files/Test_Report.csv\"\n",
    "#df = sns.load_dataset(\"csv_files/penguins.csv\")\n",
    "#with open(directory, 'r') as f:\n",
    "content = pd.read_csv(directory)\n",
    "content[\"Zip\"] = pd.to_numeric(content[\"Zip\"], errors=\"coerce\")\n",
    "print(content[\"Zip\"].dtype)\n",
    "print(content[\"Zip\"].head())\n",
    "#sns.kdeplot(data=content, x=\"Zip\", hue=\"Name\", multiple=\"stack\")\n",
    "#plt.show()\n",
    "#for section in sections:\n",
    "#    rows = section.splitlines()\n",
    "#    if len(rows) < 2:\n",
    "#        continue\n",
    "#    data = \"\\n\".join(rows)\n",
    "#    try:\n",
    "#        df_section = pd.read_csv(io.StringIO(data))\n",
    "#        if \"Count\" in df_section.columns:\n",
    "#            df_section.plot(x=df_section.columns[0], y=\"Count\", kind=\"barh\")\n",
    "#        elif \"Duplicate\" in df_section.columns:\n",
    "#            df_section.plot(x=df_section.columns[0], y =\"Duplicate\", kind=\"pie\")\n",
    "#        elif \"Average\" in df_section.columns:\n",
    "#            df_section.plot(x=df_section.columns[0], y =\"Average\", kind=\"hexbin\")\n",
    "#    except pd.errors.EmptyDataError:\n",
    "#        continue"
   ]
  }
 ],
 "metadata": {
  "kernelspec": {
   "display_name": ".venv",
   "language": "python",
   "name": "python3"
  },
  "language_info": {
   "codemirror_mode": {
    "name": "ipython",
    "version": 3
   },
   "file_extension": ".py",
   "mimetype": "text/x-python",
   "name": "python",
   "nbconvert_exporter": "python",
   "pygments_lexer": "ipython3",
   "version": "3.13.3"
  }
 },
 "nbformat": 4,
 "nbformat_minor": 5
}
